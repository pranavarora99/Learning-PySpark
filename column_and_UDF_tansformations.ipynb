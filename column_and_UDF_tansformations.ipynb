{
 "cells": [
  {
   "cell_type": "code",
   "execution_count": 0,
   "metadata": {
    "application/vnd.databricks.v1+cell": {
     "cellMetadata": {
      "byteLimit": 2048000,
      "rowLimit": 10000
     },
     "inputWidgets": {},
     "nuid": "081f28d4-8311-4427-b9a2-d1bb8cfb5c56",
     "showTitle": false,
     "title": ""
    }
   },
   "outputs": [],
   "source": [
    "%fs ls /databricks-datasets/airlines"
   ]
  },
  {
   "cell_type": "code",
   "execution_count": 0,
   "metadata": {
    "application/vnd.databricks.v1+cell": {
     "cellMetadata": {
      "byteLimit": 2048000,
      "rowLimit": 10000
     },
     "inputWidgets": {},
     "nuid": "803efa69-33d0-45e8-bbac-c4c9e71767d1",
     "showTitle": false,
     "title": ""
    }
   },
   "outputs": [],
   "source": [
    "%fs head /databricks-datasets/airlines/part-00000"
   ]
  },
  {
   "cell_type": "code",
   "execution_count": 0,
   "metadata": {
    "application/vnd.databricks.v1+cell": {
     "cellMetadata": {
      "byteLimit": 2048000,
      "rowLimit": 10000
     },
     "inputWidgets": {},
     "nuid": "3a0f365f-1d25-4e62-b35f-6dfb19d0ba1d",
     "showTitle": false,
     "title": ""
    }
   },
   "outputs": [],
   "source": [
    "airlines_df = spark.read \\\n",
    "    .format(\"csv\") \\\n",
    "    .option(\"header\", \"true\") \\\n",
    "    .option(\"inferSchema\", \"true\") \\\n",
    "    .option(\"samplingRation\", \"0.0001\") \\\n",
    "    .load(\"/databricks-datasets/airlines/part-00000\")"
   ]
  },
  {
   "cell_type": "code",
   "execution_count": 0,
   "metadata": {
    "application/vnd.databricks.v1+cell": {
     "cellMetadata": {
      "byteLimit": 2048000,
      "rowLimit": 10000
     },
     "inputWidgets": {},
     "nuid": "a57cc279-183d-4f1a-86b6-fce774c5b738",
     "showTitle": false,
     "title": ""
    }
   },
   "outputs": [],
   "source": [
    "airlines_df.select(\"Origin\",\"Dest\", \"Year\").show(20)"
   ]
  },
  {
   "cell_type": "code",
   "execution_count": 0,
   "metadata": {
    "application/vnd.databricks.v1+cell": {
     "cellMetadata": {
      "byteLimit": 2048000,
      "rowLimit": 10000
     },
     "inputWidgets": {},
     "nuid": "836bf3c5-fe3c-4496-8777-29b59de782e9",
     "showTitle": false,
     "title": ""
    }
   },
   "outputs": [],
   "source": [
    "#ways of using a column\n",
    "from pyspark.sql.functions import *\n",
    "airlines_df.select(column(\"Origin\"), col(\"Dest\"), \"Year\", airlines_df.Distance).show(10)"
   ]
  },
  {
   "cell_type": "code",
   "execution_count": 0,
   "metadata": {
    "application/vnd.databricks.v1+cell": {
     "cellMetadata": {
      "byteLimit": 2048000,
      "rowLimit": 10000
     },
     "inputWidgets": {},
     "nuid": "9dc91342-4a66-4f3f-a0b2-b7483f3d1650",
     "showTitle": false,
     "title": ""
    }
   },
   "outputs": [],
   "source": [
    "airlines_df.select(\"Origin\", \"Dest\", expr(\"to_date(concat(Year, Month, DayofMonth), 'yyyMMdd') as FlightDate\")).show(10)\n",
    "#can also be written as\n",
    "#airlines_df.select(\"Origin\", \"Dest\", to_date(concat('Year', 'Month', 'DayofMonth'), 'yyyMMdd').alias('FlightDate')).show(10)"
   ]
  },
  {
   "cell_type": "code",
   "execution_count": 0,
   "metadata": {
    "application/vnd.databricks.v1+cell": {
     "cellMetadata": {
      "byteLimit": 2048000,
      "rowLimit": 10000
     },
     "inputWidgets": {},
     "nuid": "bc1aa3e7-fd17-4e51-9a8f-9b62a14f9100",
     "showTitle": false,
     "title": ""
    }
   },
   "outputs": [
    {
     "output_type": "stream",
     "name": "stdout",
     "output_type": "stream",
     "text": [
      "Collecting findspark\r\n  Downloading findspark-2.0.1-py2.py3-none-any.whl (4.4 kB)\r\nInstalling collected packages: findspark\r\nSuccessfully installed findspark-2.0.1\r\n\u001B[33mWARNING: You are using pip version 21.2.4; however, version 24.0 is available.\r\nYou should consider upgrading via the '/local_disk0/.ephemeral_nfs/envs/pythonEnv-ae226c24-d2e5-4218-b1cd-1a66253d5e10/bin/python -m pip install --upgrade pip' command.\u001B[0m\r\n"
     ]
    }
   ],
   "source": [
    "!pip install findspark      "
   ]
  },
  {
   "cell_type": "code",
   "execution_count": 0,
   "metadata": {
    "application/vnd.databricks.v1+cell": {
     "cellMetadata": {
      "byteLimit": 2048000,
      "rowLimit": 10000
     },
     "inputWidgets": {},
     "nuid": "a1737953-a62b-4cd5-9052-6b5ff2998d67",
     "showTitle": false,
     "title": ""
    }
   },
   "outputs": [],
   "source": [
    "import findspark\n",
    "findspark.init()\n",
    "\n",
    "import pyspark\n",
    "import re\n",
    "from pyspark.sql import *\n",
    "from pyspark.sql.functions import *\n",
    "from pyspark.sql.types import *"
   ]
  },
  {
   "cell_type": "code",
   "execution_count": 0,
   "metadata": {
    "application/vnd.databricks.v1+cell": {
     "cellMetadata": {
      "byteLimit": 2048000,
      "rowLimit": 10000
     },
     "inputWidgets": {},
     "nuid": "0dc19cc6-6349-4d41-9bed-e20369f49062",
     "showTitle": false,
     "title": ""
    }
   },
   "outputs": [
    {
     "output_type": "stream",
     "name": "stdout",
     "output_type": "stream",
     "text": [
      "root\n |-- name: string (nullable = true)\n |-- day: string (nullable = true)\n |-- month: string (nullable = true)\n |-- year: string (nullable = true)\n\n"
     ]
    }
   ],
   "source": [
    "spark = SparkSession.builder \\\n",
    "        .master(\"local[3]\") \\\n",
    "        .appName(\"transformations Practice\") \\\n",
    "        .getOrCreate()\n",
    "    \n",
    "data_list = [(\"Rat\", \"21\", \"1\", \"2009\"),\n",
    "                (\"jess\", \"22\", \"11\", \"89\"),\n",
    "                (\"John\", \"22\", \"2\", \"4\"), \n",
    "                (\"Rosy\", \"33\", \"8\", \"68\"), \n",
    "                (\"Abdul\", \"53\", \"5\", \"91\"),\n",
    "                (\"Max\", \"22\", \"8\", \"01\"),\n",
    "                (\"Niel\", \"28\", \"2\", \"21\")]\n",
    "\n",
    "raw_df = spark.createDataFrame(data_list).toDF(\"name\", \"day\", \"month\", \"year\")\n",
    "raw_df.printSchema()"
   ]
  },
  {
   "cell_type": "code",
   "execution_count": 0,
   "metadata": {
    "application/vnd.databricks.v1+cell": {
     "cellMetadata": {
      "byteLimit": 2048000,
      "rowLimit": 10000
     },
     "inputWidgets": {},
     "nuid": "015368a0-68e6-41e5-89c1-95e090ed1d2e",
     "showTitle": false,
     "title": ""
    }
   },
   "outputs": [
    {
     "output_type": "stream",
     "name": "stdout",
     "output_type": "stream",
     "text": [
      "+-----+---+-----+----+-----------+\n| name|day|month|year|         Id|\n+-----+---+-----+----+-----------+\n|  Rat| 21|    1|2009| 8589934592|\n| jess| 22|   11|  89|17179869184|\n| John| 22|    2|   4|25769803776|\n| Rosy| 33|    8|  68|34359738368|\n|Abdul| 53|    5|  91|42949672960|\n|  Max| 22|    8|  01|51539607552|\n| Niel| 28|    2|  21|60129542144|\n+-----+---+-----+----+-----------+\n\n"
     ]
    }
   ],
   "source": [
    "df1 = raw_df.withColumn(\"Id\", monotonically_increasing_id())\n",
    "df1.show()"
   ]
  },
  {
   "cell_type": "code",
   "execution_count": 0,
   "metadata": {
    "application/vnd.databricks.v1+cell": {
     "cellMetadata": {
      "byteLimit": 2048000,
      "rowLimit": 10000
     },
     "inputWidgets": {},
     "nuid": "3dded757-99d4-47b1-9a49-971d147e8ebc",
     "showTitle": false,
     "title": ""
    }
   },
   "outputs": [
    {
     "output_type": "stream",
     "name": "stdout",
     "output_type": "stream",
     "text": [
      "+-----+---+-----+------+-----------+\n| name|day|month|  year|         Id|\n+-----+---+-----+------+-----------+\n|  Rat| 21|    1|  2009| 8589934592|\n| jess| 22|   11|1989.0|17179869184|\n| John| 22|    2|2004.0|25769803776|\n| Rosy| 33|    8|1968.0|34359738368|\n|Abdul| 53|    5|1991.0|42949672960|\n|  Max| 22|    8|2001.0|51539607552|\n| Niel| 28|    2|1921.0|60129542144|\n+-----+---+-----+------+-----------+\n\n"
     ]
    }
   ],
   "source": [
    "#transforming year column to get full value\n",
    "df2 = df1.withColumn(\"year\", expr(\"\"\"\n",
    "                     case when year<21 then year+2000\n",
    "                     when year<100 then year+1900\n",
    "                     else year\n",
    "                     end\n",
    "                     \"\"\"))\n",
    "\n",
    "df2.show()"
   ]
  },
  {
   "cell_type": "code",
   "execution_count": 0,
   "metadata": {
    "application/vnd.databricks.v1+cell": {
     "cellMetadata": {
      "byteLimit": 2048000,
      "rowLimit": 10000
     },
     "inputWidgets": {},
     "nuid": "5b8c5742-3ad8-4b8b-ab0b-e338e4117c73",
     "showTitle": false,
     "title": ""
    }
   },
   "outputs": [
    {
     "output_type": "stream",
     "name": "stdout",
     "output_type": "stream",
     "text": [
      "+-----+---+-----+----+-----------+\n| name|day|month|year|         Id|\n+-----+---+-----+----+-----------+\n|  Rat| 21|    1|2009| 8589934592|\n| jess| 22|   11|1989|17179869184|\n| John| 22|    2|2004|25769803776|\n| Rosy| 33|    8|1968|34359738368|\n|Abdul| 53|    5|1991|42949672960|\n|  Max| 22|    8|2001|51539607552|\n| Niel| 28|    2|1921|60129542144|\n+-----+---+-----+----+-----------+\n\n"
     ]
    }
   ],
   "source": [
    "#casting the year column to int inline, decimals are not desired output\n",
    "df3 = df1.withColumn(\"year\", expr(\"\"\"\n",
    "                     case when year<21 then cast(year as int)+2000\n",
    "                     when year<100 then cast(year as int)+1900\n",
    "                     else year\n",
    "                     end\n",
    "                     \"\"\"))\n",
    "\n",
    "df3.show()"
   ]
  },
  {
   "cell_type": "code",
   "execution_count": 0,
   "metadata": {
    "application/vnd.databricks.v1+cell": {
     "cellMetadata": {
      "byteLimit": 2048000,
      "rowLimit": 10000
     },
     "inputWidgets": {},
     "nuid": "75d4003d-efcd-4331-a5ab-7f7ca33e8ad8",
     "showTitle": false,
     "title": ""
    }
   },
   "outputs": [
    {
     "output_type": "stream",
     "name": "stdout",
     "output_type": "stream",
     "text": [
      "+-----+---+-----+----+-----------+\n| name|day|month|year|         Id|\n+-----+---+-----+----+-----------+\n|  Rat| 21|    1|2009| 8589934592|\n| jess| 22|   11|1989|17179869184|\n| John| 22|    2|2004|25769803776|\n| Rosy| 33|    8|1968|34359738368|\n|Abdul| 53|    5|1991|42949672960|\n|  Max| 22|    8|2001|51539607552|\n| Niel| 28|    2|1921|60129542144|\n+-----+---+-----+----+-----------+\n\n"
     ]
    }
   ],
   "source": [
    "#casting the year column to int by changing schema, decimals are not desired output\n",
    "df4 = df1.withColumn(\"year\", expr(\"\"\"\n",
    "                     case when year<21 then year+2000\n",
    "                     when year<100 then year+1900\n",
    "                     else year\n",
    "                     end\n",
    "                     \"\"\").cast(IntegerType()))\n",
    "\n",
    "df4.show()"
   ]
  },
  {
   "cell_type": "code",
   "execution_count": 0,
   "metadata": {
    "application/vnd.databricks.v1+cell": {
     "cellMetadata": {
      "byteLimit": 2048000,
      "rowLimit": 10000
     },
     "inputWidgets": {},
     "nuid": "6a131f2e-b6a7-4c83-9b49-29711695000a",
     "showTitle": false,
     "title": ""
    }
   },
   "outputs": [
    {
     "output_type": "stream",
     "name": "stdout",
     "output_type": "stream",
     "text": [
      "root\n |-- name: string (nullable = true)\n |-- day: integer (nullable = true)\n |-- month: integer (nullable = true)\n |-- year: integer (nullable = true)\n |-- Id: long (nullable = false)\n\n"
     ]
    }
   ],
   "source": [
    "df5 = df4.withColumn(\"day\", col(\"day\").cast(IntegerType())) \\\n",
    "        .withColumn(\"month\", col(\"month\").cast(IntegerType()))\n",
    "\n",
    "df5.printSchema()"
   ]
  },
  {
   "cell_type": "code",
   "execution_count": 0,
   "metadata": {
    "application/vnd.databricks.v1+cell": {
     "cellMetadata": {
      "byteLimit": 2048000,
      "rowLimit": 10000
     },
     "inputWidgets": {},
     "nuid": "27317868-fcab-424e-a93c-d3f9f010feae",
     "showTitle": false,
     "title": ""
    }
   },
   "outputs": [
    {
     "output_type": "stream",
     "name": "stdout",
     "output_type": "stream",
     "text": [
      "+-----+---+-----+----+-----------+----------+\n| name|day|month|year|         Id|       DOB|\n+-----+---+-----+----+-----------+----------+\n|  Rat| 21|    1|2009| 8589934592|2009-01-21|\n| jess| 22|   11|1989|17179869184|1989-01-22|\n| John| 22|    2|2004|25769803776|2004-01-22|\n| Rosy| 33|    8|1968|34359738368|      null|\n|Abdul| 53|    5|1991|42949672960|      null|\n|  Max| 22|    8|2001|51539607552|2001-01-22|\n| Niel| 28|    2|1921|60129542144|1921-01-28|\n+-----+---+-----+----+-----------+----------+\n\n+-----+---+-----+----+-----------+----------+\n| name|day|month|year|         Id|       DOB|\n+-----+---+-----+----+-----------+----------+\n|  Rat| 21|    1|2009| 8589934592|2009-01-21|\n| jess| 22|   11|1989|17179869184|1989-11-22|\n| John| 22|    2|2004|25769803776|2004-02-22|\n| Rosy| 33|    8|1968|34359738368|      null|\n|Abdul| 53|    5|1991|42949672960|      null|\n|  Max| 22|    8|2001|51539607552|2001-08-22|\n| Niel| 28|    2|1921|60129542144|1921-02-28|\n+-----+---+-----+----+-----------+----------+\n\n"
     ]
    }
   ],
   "source": [
    "df6 = df5.withColumn(\"DOB\", expr(\"to_date(concat(month, '/', day, '/', year), 'm/d/y')\"))\n",
    "df7 = df5.withColumn(\"DOB\", to_date(expr(\"concat(month, '/', day, '/', year)\"), \"M/d/y\"))\n",
    "df6.show()\n",
    "df7.show()"
   ]
  },
  {
   "cell_type": "code",
   "execution_count": 0,
   "metadata": {
    "application/vnd.databricks.v1+cell": {
     "cellMetadata": {
      "byteLimit": 2048000,
      "rowLimit": 10000
     },
     "inputWidgets": {},
     "nuid": "9f482ea2-002e-4c4a-99f0-835fcde4c27a",
     "showTitle": false,
     "title": ""
    }
   },
   "outputs": [
    {
     "output_type": "stream",
     "name": "stdout",
     "output_type": "stream",
     "text": [
      "+-----+-----------+----------+\n| name|         Id|       DOB|\n+-----+-----------+----------+\n| Rosy|34359738368|      null|\n|Abdul|42949672960|      null|\n| Niel|60129542144|1921-02-28|\n| jess|17179869184|1989-11-22|\n|  Max|51539607552|2001-08-22|\n| John|25769803776|2004-02-22|\n|  Rat| 8589934592|2009-01-21|\n+-----+-----------+----------+\n\n"
     ]
    }
   ],
   "source": [
    "df9 = df6 \\\n",
    "    .withColumn(\"DOB\", expr(\"to_date(concat(month, '/', day, '/', year), 'M/d/y')\")) \\\n",
    "    .drop(\"day\", \"month\", \"year\") \\\n",
    "    .dropDuplicates([\"name\", \"DOB\"]) \\\n",
    "    .sort(\"DOB\", expr(\"DOB desc\"))\n",
    "\n",
    "df9.show()"
   ]
  },
  {
   "cell_type": "code",
   "execution_count": 0,
   "metadata": {
    "application/vnd.databricks.v1+cell": {
     "cellMetadata": {},
     "inputWidgets": {},
     "nuid": "7ef7c8f1-db9d-4e33-89f0-a8b50aae09c9",
     "showTitle": false,
     "title": ""
    }
   },
   "outputs": [],
   "source": []
  }
 ],
 "metadata": {
  "application/vnd.databricks.v1+notebook": {
   "dashboards": [],
   "language": "python",
   "notebookMetadata": {
    "mostRecentlyExecutedCommandWithImplicitDF": {
     "commandId": 3799563153527438,
     "dataframes": [
      "_sqldf"
     ]
    },
    "pythonIndentUnit": 4
   },
   "notebookName": "column_and_UDF_tansformations",
   "widgets": {}
  }
 },
 "nbformat": 4,
 "nbformat_minor": 0
}
