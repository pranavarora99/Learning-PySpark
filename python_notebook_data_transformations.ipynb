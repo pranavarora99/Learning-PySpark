{
 "cells": [
  {
   "cell_type": "code",
   "execution_count": 0,
   "metadata": {
    "application/vnd.databricks.v1+cell": {
     "cellMetadata": {
      "byteLimit": 2048000,
      "rowLimit": 10000
     },
     "inputWidgets": {},
     "nuid": "9498cd79-78a2-4c98-ac86-f561a69f2273",
     "showTitle": false,
     "title": ""
    }
   },
   "outputs": [],
   "source": [
    "from pyspark.sql import *\n",
    "from pyspark.sql.functions import *\n",
    "from pyspark.sql.types import *\n",
    "\n",
    "def to_date_func(df, fmt, fld):\n",
    "    return df.withColumn(fld, to_date(col(fld), fmt))\n"
   ]
  },
  {
   "cell_type": "code",
   "execution_count": 0,
   "metadata": {
    "application/vnd.databricks.v1+cell": {
     "cellMetadata": {
      "byteLimit": 2048000,
      "rowLimit": 10000
     },
     "inputWidgets": {},
     "nuid": "932b1d6d-15ec-4e53-8671-835dac8a79b6",
     "showTitle": false,
     "title": ""
    }
   },
   "outputs": [],
   "source": [
    "data_schema = StructType([\n",
    "    StructField(\"EventName\", StringType()),\n",
    "    StructField(\"EventDate\", StringType())\n",
    "])\n",
    "\n",
    "data_rows = [Row(\"memorial day\", \"04/05/2024\"), Row(\"UCL final\", \"05/16/2024\"), Row(\"good friday\", \"03/03/2024\")]\n",
    "RDD_data = spark.sparkContext.parallelize(data_rows,2)\n",
    "raw_df = spark.createDataFrame(RDD_data, data_schema)"
   ]
  },
  {
   "cell_type": "code",
   "execution_count": 0,
   "metadata": {
    "application/vnd.databricks.v1+cell": {
     "cellMetadata": {
      "byteLimit": 2048000,
      "rowLimit": 10000
     },
     "inputWidgets": {},
     "nuid": "70c9f1a8-5dd0-4dce-ab0b-ed14c904c5b3",
     "showTitle": false,
     "title": ""
    }
   },
   "outputs": [
    {
     "output_type": "stream",
     "name": "stdout",
     "output_type": "stream",
     "text": [
      "StructType([StructField('EventName', StringType(), True), StructField('EventDate', StringType(), True)])\n+------------+----------+\n|   EventName| EventDate|\n+------------+----------+\n|memorial day|04/05/2024|\n|   UCL final|05/16/2024|\n| good friday|03/03/2024|\n+------------+----------+\n\nStructType([StructField('EventName', StringType(), True), StructField('EventDate', DateType(), True)])\n+------------+----------+\n|   EventName| EventDate|\n+------------+----------+\n|memorial day|2024-04-05|\n|   UCL final|2024-05-16|\n| good friday|2024-03-03|\n+------------+----------+\n\n"
     ]
    }
   ],
   "source": [
    "print(raw_df.schema)\n",
    "raw_df.show()\n",
    "\n",
    "new_df = to_date_func(raw_df, 'M/d/y', \"EventDate\")\n",
    "print(new_df.schema)\n",
    "new_df.show()"
   ]
  },
  {
   "cell_type": "code",
   "execution_count": 0,
   "metadata": {
    "application/vnd.databricks.v1+cell": {
     "cellMetadata": {},
     "inputWidgets": {},
     "nuid": "87b0416d-6d38-44d2-acd8-6b9a88344775",
     "showTitle": false,
     "title": ""
    }
   },
   "outputs": [],
   "source": []
  }
 ],
 "metadata": {
  "application/vnd.databricks.v1+notebook": {
   "dashboards": [],
   "language": "python",
   "notebookMetadata": {
    "pythonIndentUnit": 4
   },
   "notebookName": "python_notebook_data_transformations",
   "widgets": {}
  }
 },
 "nbformat": 4,
 "nbformat_minor": 0
}
